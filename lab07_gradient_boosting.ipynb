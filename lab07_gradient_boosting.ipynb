{
  "cells": [
    {
      "cell_type": "markdown",
      "metadata": {
        "id": "view-in-github",
        "colab_type": "text"
      },
      "source": [
        "<a href=\"https://colab.research.google.com/github/kussy29/machine_learning/blob/main/lab07_gradient_boosting.ipynb\" target=\"_parent\"><img src=\"https://colab.research.google.com/assets/colab-badge.svg\" alt=\"Open In Colab\"/></a>"
      ]
    },
    {
      "cell_type": "markdown",
      "source": [
        "# Homework Assignment: Understanding Binary Cross-Entropy in the Forward Stagewise Procedure\n",
        "-----------------------------\n",
        "\n",
        "## The Problem\n",
        "\n",
        "In this assignment, you will demonstrate that adding a new constant predictor in the forward stagewise procedure to an already existing predictor from a previous stage, $f_{m-1}(x_i)$ (which we will denote as $f_i$ for ease of notation), may be for certain loss functions fundamentally more challenging than building a constant predictor from scratch. You will work with the binary cross-entropy loss defined as\n",
        "\n",
        "$$\n",
        "L(y, z) = -y \\log(\\sigma(z)) - (1 - y) \\log(1 - \\sigma(z)),\n",
        "$$\n",
        "\n",
        "where\n",
        "\n",
        "- $y_i \\in \\{0,1\\}$ are the binary labels,\n",
        "- $\\sigma(z) = \\frac{1}{1 + e^{-z}}$ is the sigmoid function.\n",
        "\n",
        "For the purposes of this assignment, assume that you are given:\n",
        "\n",
        "- A dataset of binary labels $y_i$.\n",
        "- **Two constants: $m$ (the number of ones) and $k$ (the number of zeros)** in the labels in the dataset.\n",
        "- A set of predictions $f_i = f_{m-1}(x_i)$ obtained from a previous stage, where the $f_i$ values are generated randomly from a normal distribution.\n",
        "\n",
        "### The assignment will explore two scenarios:\n",
        "\n",
        "### Scenario A: Fitting a Constant Predictor from Scratch\n",
        "\n",
        "In this scenario, you are building a predictor from scratch. The task is to find the optimal constant value $\\lambda$ that minimizes the binary cross-entropy loss over the dataset. Formulate the optimization problem as:\n",
        "\n",
        "$$\n",
        "\\lambda^* = \\arg\\min_{\\lambda} \\sum_{i=1}^{n} L(y_i, \\lambda).\n",
        "$$\n",
        "\n",
        "\n",
        "\n",
        "### Scenario B: Fitting the m-th Predictor in the Forward Stagewise Procedure\n",
        "\n",
        "Now assume you already have an existing predictor $f_i = f_{m-1}(x_i)$. Rather than predicting from scratch, you wish to find an optimal additive correction $\\lambda$ such that the updated prediction for each data point becomes\n",
        "\n",
        "$$\n",
        " f_i + \\lambda,\n",
        "$$\n",
        "\n",
        "and the corresponding binary cross-entropy loss is given by\n",
        "\n",
        "$$\n",
        "\\lambda^* = \\arg\\min_{\\lambda} \\sum_{i=1}^{n} L(y_i, f_i + \\lambda).\n",
        "$$\n",
        "\n",
        "\n",
        "## Research Questions\n",
        "\n",
        "In this assignment you will answer the following questions:\n",
        "\n",
        "- Why is finding an optimal additive shift $\\lambda$ in the forward stagewise procedure fundamentally harder than directly fitting a single-parameter predictor from scratch?\n",
        "- How does the complexity of the loss landscape differ between these two scenarios? Discuss the differences in the shape and smoothness of the loss function in both cases.\n",
        "\n",
        "## Tasks & Deliverables\n",
        "\n",
        "1. **Derivation and Analysis**\n",
        "\n",
        "  **Scenario A:**\n",
        "  - Derive explicitly the optimal $\\lambda$ for fitting from scratch, i.e., solve\n",
        "    \n",
        "    $$\n",
        "    \\lambda^* = \\arg\\min_{\\lambda} \\sum_{i=1}^{n} L(y_i, \\lambda)\n",
        "    $$\n",
        "    \n",
        "    and express the answer in terms of $m$ and $k$.\n",
        "    *Hint:* First, write the derivative of the loss with respect to $\\lambda$ and set it to zero to obtain an implicit equation.\n",
        "\n",
        "  - **Interpretation:**\n",
        "  Provide a clear interpretation of your derived optimal $\\lambda$. What does this constant represent in terms of the dataset's label distribution?\n",
        "\n",
        "  **Scenario B:**\n",
        "  - Derive the implicit equation that $\\lambda$ must satisfy in the additive shift scenario:\n",
        "    \n",
        "    $$\n",
        "    \\lambda^* = \\arg\\min_{\\lambda} \\sum_{i=1}^{n} L(y_i, f_i + \\lambda).\n",
        "    $$\n",
        "    *Hint:* First, write the derivative of the loss with respect to $\\lambda$ and set it to zero to obtain an implicit equation.\n",
        "\n",
        "  - **Discussion:**\n",
        "    Explain clearly why this implicit equation has no simple closed-form solution, unlike the previous case. What role does the non-linearity of the sigmoid function (in the binary cross-entropy loss) play in this difficulty?\n",
        "\n",
        "2. **Loss Landscape Exploration (Python)**\n",
        "\n",
        "  Write a Python code that:\n",
        "\n",
        "  - Uses provided values for $n$, and for $k$ and $m$ (the number of zeros and ones in the labels, respectively), $k+m=n$.\n",
        "  - Generates a set of predictions $f_i$ by sampling from a normal distribution.\n",
        "  - Plots the binary cross-entropy loss as a function of $\\lambda$ for:\n",
        "    - Scenario A:\n",
        "      $$\n",
        "      \\text{plot } \\sum_{i=1}^{n} L(y_i, \\lambda) \\text{ as a function of }\\lambda\n",
        "      $$\n",
        "    - Scenario B:\n",
        "      $$\n",
        "      \\text{plot } \\sum_{i=1}^{n} L(y_i, f_i + \\lambda) \\text{ as a function of }\\lambda\n",
        "      $$\n",
        "  - **Discussion:**\n",
        "  Is the loss landscape in Scenario A simpler or more complex than in Scenario B? Is it multimodal or unimodal? If so, is it thinkable the lambda minimizer in Scenario B can be found numerically? Where does the difficulty in Scenario B come from: the non-linearity of the problem or a complex loss landscape?\n",
        "\n",
        "3. **Report**  \n",
        "   - Summarize your theoretical insights and empirical findings in a **Colab notebook**.\n",
        "   - Include the relevant proofs, code, discussion, and conclusions.\n",
        "   - Place the notebook in your **GitHub repository** for this course, add a link to it in your README.md and add an **“Open in Colab”** badge in the notebook so it can be launched directly.\n",
        "\n"
      ],
      "metadata": {
        "id": "L9VT1gISt5ZU"
      },
      "id": "L9VT1gISt5ZU"
    },
    {
      "cell_type": "markdown",
      "source": [
        "### Scenario A:"
      ],
      "metadata": {
        "id": "b2v_YltEZ8ri"
      },
      "id": "b2v_YltEZ8ri"
    },
    {
      "cell_type": "markdown",
      "source": [
        "Derivative of binary cross entropy:\n",
        "$$0=\\frac{dL(y,λ))}{d\\lambda}=\\sum_{i=1}^n- \\frac{y_i}{\\sigma(\\lambda)}\\sigma '(\\lambda)+\\frac{1-y_i}{1-\\sigma(\\lambda)}\\sigma ' (\\lambda)=\\left(-\\frac{m}{\\sigma(\\lambda)}+\\frac{k}{1-\\sigma(\\lambda)}\\right)\\sigma '(\\lambda)\n",
        "$$\n",
        "$$m(1-\\sigma(\\lambda))=k\\sigma(\\lambda) $$\n",
        "So the $\\sigma(\\lambda)$ is equal to $\\frac{1}{1+e^{-\\lambda}}=\\sigma(\\lambda)=\\frac{m}{k+m}=\\frac{m}{n}$. So $λ=-\\log(\\frac{n}{m}-1)=-\\log(\\frac{k}{m})=\\log (\\frac{m}{k})$\n",
        "\n",
        "For k=10 and m=20 it's equal $\\log(2)\\approx 0.693$\n",
        "\n",
        "It measures level of ones compared to zeros (high positive value implies high percantage of ones, 0 equal number of 0 and 1, low negative high percantage of zeros).\n",
        "\n",
        "We will check if scipy.optimize.minimize_scalar can approximate it correctly.\n"
      ],
      "metadata": {
        "id": "mjx8Ptp2pE89"
      },
      "id": "mjx8Ptp2pE89"
    },
    {
      "cell_type": "code",
      "source": [
        "import numpy as np\n",
        "import matplotlib.pyplot as plt\n",
        "from scipy.special import expit  #sigmoid func\n",
        "from scipy.optimize import minimize_scalar\n",
        "\n",
        "np.random.seed(42)\n",
        "k=10\n",
        "m=20\n",
        "# Sample fs from normal(0,1)\n",
        "f=np.random.normal(size=k+m)\n",
        "y0=np.zeros(k)\n",
        "y1=np.ones(m)\n",
        "y=np.concatenate((y0,y1))\n",
        "np.random.shuffle(y)\n",
        "\n",
        "\n",
        "def binary_cross_entropy(param):\n",
        "  probs = expit(param)\n",
        "  loss= -np.sum(y*np.log(probs)+(1-y)*np.log(1-probs))\n",
        "  return loss\n",
        "\n",
        "const = minimize_scalar(binary_cross_entropy)\n",
        "const"
      ],
      "metadata": {
        "colab": {
          "base_uri": "https://localhost:8080/"
        },
        "id": "p5St8xsnh-ql",
        "outputId": "89bac329-dd1c-4e1a-8c75-230f85eafed0"
      },
      "id": "p5St8xsnh-ql",
      "execution_count": null,
      "outputs": [
        {
          "output_type": "execute_result",
          "data": {
            "text/plain": [
              " message: \n",
              "          Optimization terminated successfully;\n",
              "          The returned value satisfies the termination criteria\n",
              "          (using xtol = 1.48e-08 )\n",
              " success: True\n",
              "     fun: 19.095425048844376\n",
              "       x: 0.6931471749136324\n",
              "     nit: 11\n",
              "    nfev: 14"
            ]
          },
          "metadata": {},
          "execution_count": 26
        }
      ]
    },
    {
      "cell_type": "code",
      "source": [
        "lambdas=np.linspace(-3,3,100)\n",
        "bce_loss=np.array([binary_cross_entropy(lambda_) for lambda_ in lambdas])\n",
        "\n",
        "plt.figure(figsize=(10, 6))\n",
        "plt.plot(lambdas, bce_loss, label='Binary Cross Entropy Loss')"
      ],
      "metadata": {
        "colab": {
          "base_uri": "https://localhost:8080/",
          "height": 539
        },
        "id": "53G1R3xb1wFp",
        "outputId": "1e0c9c42-53a2-4ca3-8215-a6fead23854d"
      },
      "id": "53G1R3xb1wFp",
      "execution_count": null,
      "outputs": [
        {
          "output_type": "execute_result",
          "data": {
            "text/plain": [
              "[<matplotlib.lines.Line2D at 0x7b7166b23350>]"
            ]
          },
          "metadata": {},
          "execution_count": 27
        },
        {
          "output_type": "display_data",
          "data": {
            "text/plain": [
              "<Figure size 1000x600 with 1 Axes>"
            ],
            "image/png": "[encoded data removed]"
          },
          "metadata": {}
        }
      ]
    },
    {
      "cell_type": "markdown",
      "source": [
        "As we can see function BCE(λ) is smooth function with minimum at $\\lambda=\\ln(2)$."
      ],
      "metadata": {
        "id": "khGSX67paAdk"
      },
      "id": "khGSX67paAdk"
    },
    {
      "cell_type": "markdown",
      "source": [
        "### Scenario B:"
      ],
      "metadata": {
        "id": "hbFrDw1GZ1XU"
      },
      "id": "hbFrDw1GZ1XU"
    },
    {
      "cell_type": "markdown",
      "source": [
        "$$0=\\frac{dL(y,λ+ f_i))}{d\\lambda}=\\sum_{i=1}^n- \\frac{y_i}{\\sigma(\\lambda +f_i)}\\sigma '(\\lambda +f_i)+\\frac{1-y_i}{1-\\sigma(\\lambda +f_i)}\\sigma ' (\\lambda +f_i)=$$\n",
        "$$\n",
        "\\sum_{i=1}^n- y_i(1+e^{-λ-f_i})\\frac{e^{-λ-f_i}}{(1+e^{-λ-f_i})^2}\n",
        "+\\frac{(1-y_i)(1+e^{-\\lambda+f_i})}{e^{-λ-f_i}}\\frac{e^{-λ-f_i}}{(1+e^{-λ-f_i})^2}=\n",
        "$$\n",
        "$$\n",
        "=\\sum_{i=1}^n- \\frac{y_ie^{-λ-f_i}}{1+e^{-λ-f_i}}\n",
        "+\\frac{1-y_i}{1+e^{-λ-f_i}}=0\n",
        "$$\n",
        "\n",
        "It doesn't have simple solution because it's sum of exponential functions with different exponent behaves badly.\n"
      ],
      "metadata": {
        "id": "hxgBhLL_ycCP"
      },
      "id": "hxgBhLL_ycCP"
    },
    {
      "cell_type": "markdown",
      "source": [
        "We can see that scipy.optimize.minimize_scalar gives us good approximation of real value, so we will use it to approximate more complicated noised function."
      ],
      "metadata": {
        "id": "3FNRT-vbxEnO"
      },
      "id": "3FNRT-vbxEnO"
    },
    {
      "cell_type": "code",
      "source": [
        "def binary_cross_entropy_with_noise(param):\n",
        "  probs = expit(param+f)\n",
        "  loss= -np.sum(y*np.log(probs)+(1-y)*np.log(1-probs))\n",
        "  return loss\n",
        "\n",
        "const_noised = minimize_scalar(binary_cross_entropy_with_noise)\n",
        "const_noised"
      ],
      "metadata": {
        "colab": {
          "base_uri": "https://localhost:8080/"
        },
        "id": "ckAf80GJmvpD",
        "outputId": "ac2ff187-ee31-4c22-be8b-19a42cd9da15"
      },
      "id": "ckAf80GJmvpD",
      "execution_count": null,
      "outputs": [
        {
          "output_type": "execute_result",
          "data": {
            "text/plain": [
              " message: \n",
              "          Optimization terminated successfully;\n",
              "          The returned value satisfies the termination criteria\n",
              "          (using xtol = 1.48e-08 )\n",
              " success: True\n",
              "     fun: 19.54962785154987\n",
              "       x: 1.0017339886106778\n",
              "     nit: 9\n",
              "    nfev: 12"
            ]
          },
          "metadata": {},
          "execution_count": 28
        }
      ]
    },
    {
      "cell_type": "code",
      "source": [
        "lambdas=np.linspace(-3,3,100)\n",
        "bce_loss_noised=np.array([binary_cross_entropy_with_noise(lambda_) for lambda_ in lambdas])\n",
        "\n",
        "plt.figure(figsize=(10, 6))\n",
        "plt.plot(lambdas, bce_loss_noised, label='Binary Cross Entropy Loss')"
      ],
      "metadata": {
        "colab": {
          "base_uri": "https://localhost:8080/",
          "height": 539
        },
        "id": "9zwYlYLTnArX",
        "outputId": "a4e5ef48-da72-4594-d789-dbd638dceec8"
      },
      "id": "9zwYlYLTnArX",
      "execution_count": null,
      "outputs": [
        {
          "output_type": "execute_result",
          "data": {
            "text/plain": [
              "[<matplotlib.lines.Line2D at 0x7b7166690490>]"
            ]
          },
          "metadata": {},
          "execution_count": 29
        },
        {
          "output_type": "display_data",
          "data": {
            "text/plain": [
              "<Figure size 1000x600 with 1 Axes>"
            ],
            "image/png": "[encoded data removed]"
          },
          "metadata": {}
        }
      ]
    },
    {
      "cell_type": "markdown",
      "source": [
        "As we can see plot of BCE(λ,f) is also smooth based on λ, so we can look for the minimizer of it as we can see in the cell above the plot. However this λ would be different than λ in Scenario A."
      ],
      "metadata": {
        "id": "vPUQHl64at5A"
      },
      "id": "vPUQHl64at5A"
    },
    {
      "cell_type": "code",
      "source": [],
      "metadata": {
        "id": "AlX7T3E12cFR"
      },
      "id": "AlX7T3E12cFR",
      "execution_count": null,
      "outputs": []
    }
  ],
  "metadata": {
    "colab": {
      "provenance": [],
      "include_colab_link": true
    },
    "language_info": {
      "name": "python"
    },
    "kernelspec": {
      "name": "python3",
      "display_name": "Python 3"
    }
  },
  "nbformat": 4,
  "nbformat_minor": 5
}