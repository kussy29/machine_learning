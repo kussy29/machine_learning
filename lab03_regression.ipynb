{
  "cells": [
    {
      "cell_type": "markdown",
      "metadata": {
        "id": "view-in-github",
        "colab_type": "text"
      },
      "source": [
        "<a href=\"https://colab.research.google.com/github/kussy29/machine_learning/blob/main/lab03_regression.ipynb\" target=\"_parent\"><img src=\"https://colab.research.google.com/assets/colab-badge.svg\" alt=\"Open In Colab\"/></a>"
      ]
    },
    {
      "cell_type": "markdown",
      "source": [
        "# **Homework Assignment: Optimizing the Classification Threshold in Logistic Regression**\n",
        "\n",
        "-------------------------------\n",
        "\n",
        "In this assignment, you will explore the concept of **classification thresholds** in **Logistic Regression** and investigate whether the commonly used threshold of **0.5** is always the optimal choice. To complete this assignment, you will need to conduct **additional reading** on **ROC curves** and the **AUC metric**, beyond the materials covered in class.\n",
        "\n",
        "This exercise focuses on the **importance of threshold selection** and how it impacts model performance based on different evaluation criteria.\n",
        "\n",
        "\n",
        "\n",
        "## **The Objective**\n",
        "\n",
        "**Is a 0.5 threshold always the best choice in Logistic Regression?**\n",
        "\n",
        "- Analyze if the standard threshold of **0.5** always yields the most desirable results in various scenarios.\n",
        "- Investigate alternative thresholds and how they can improve model performance depending on the problem context.\n",
        "\n",
        "\n",
        "\n",
        "## **Helper Questions**\n",
        "\n",
        "1. **Would a different threshold yield better results?**  \n",
        "   - How does shifting the threshold affect the **trade-off between sensitivity and specificity**?\n",
        "\n",
        " **Higher threshold gives us less positives (true and false), so it gives higher specifity and lower sensitivity.**\n",
        "\n",
        "2. **How do you define \"better\" results?**  \n",
        "   - Is **higher specificity** more valuable than **higher sensitivity** in certain contexts? Or maybe the other way around?\n",
        "   - Does the **best threshold** depend on the task? (discuss cases like *disease detection* vs. *spam filtering*)\n",
        "\n",
        "   **It depends on the context if we want to avoid false negatives like in spam filtering we would have lower threshold. However if we don't want to have false positive (for example if it would be the decising factor for risky operation) we would rise threshold.**\n",
        "\n",
        "3. **How does a ROC curve help in this process?**  \n",
        "   - Learn how to use a **ROC curve** to visualize the trade-off between **True Positive Rate (Sensitivity)** and **False Positive Rate (1 - Specificity)**.\n",
        "\n",
        "   **One axis of ROC is TPR and another one is FPR which provides us information about trade-off**\n",
        "\n",
        "\n",
        "4. **How do you select the optimal threshold using the ROC curve?**  \n",
        "   - Discuss strategies to select a threshold depending on the specific task at hand and the acceptable **trade-off between sensitivity and specificity**.\n",
        "\n",
        "   **We can decide that we want to have some minimum level of sensivity/specifity and maximize another one. Another method is to have some function of sensivity and specivity and maximize it.**\n",
        "\n",
        "   \n",
        "\n",
        "5. **What is the AUC metric and how is it useful?**  \n",
        "   - Define **AUC (Area Under the Curve)** and discuss its role in evaluating the overall performance of a classifier.\n",
        "\n",
        "   **AUC is metric which tells us if we can achieve high sensivity even with high threshold and high specifity with low threshold. If we can do that the model is really good and AUC is high.**\n",
        "\n",
        "\n",
        "\n",
        "## **Tasks & Deliverables**\n",
        "\n",
        "1. **Colab Notebook**\n",
        "   - Select a suitable classification 2-class dataset.\n",
        "   - Divide the dataset into three parts: **train**, **validation**, and **test**.\n",
        "   - Train the **Logistic Regression** model on the **training** set.\n",
        "   - Use the **validation** set to:\n",
        "     - Plot the **ROC curve**.\n",
        "     - Calculate the **AUC**.\n",
        "     - Determine the **optimal threshold** using the ROC curve for your dataset.\n",
        "   - Apply the selected threshold to the **test** set to evaluate final model performance using metrics like:\n",
        "     - **Accuracy**\n",
        "     - **Precision & Recall**\n",
        "     - **F1-Score**\n",
        "     - **Specificity & Sensitivity**\n",
        "\n",
        "2. **Answer the Questions:**\n",
        "   - Use markdown cells to provide explanations.\n",
        "   - Answer all helper questions with supporting evidence from your plots and results.\n",
        "\n",
        "3. **Visualizations:**\n",
        "   - **ROC curve** based on the **validation** set with threshold points marked.\n",
        "   - Highlight the **optimal threshold** on the ROC curve.\n",
        "\n",
        "4. **Publish on GitHub**  \n",
        "   - Place the Colab notebook in your **GitHub repository** for this course.\n",
        "   - In your repository’s **README**, add a **link** to the notebook and also include an **“Open in Colab”** badge at the top of the notebook so it can be launched directly from GitHub.\n",
        "\n",
        "\n"
      ],
      "metadata": {
        "id": "B1K2cKMGKi0Z"
      },
      "id": "B1K2cKMGKi0Z"
    },
    {
      "cell_type": "code",
      "source": [
        "import numpy as np\n",
        "import matplotlib.pyplot as plt\n",
        "from sklearn.linear_model import LogisticRegression, LinearRegression\n",
        "from sklearn.metrics import  roc_curve, auc\n",
        "from sklearn.datasets import load_breast_cancer\n",
        "\n",
        "np.random.seed(85)\n",
        "\n",
        "data = load_breast_cancer()\n",
        "X=data.data\n",
        "y=data.target\n",
        "\n",
        "ind = np.arange(len(y))\n",
        "np.random.shuffle(ind)\n",
        "X_train = X[ind[:int(0.7*len(y))],:]\n",
        "X_val = X[ind[int(0.7*len(y)):int(0.9*len(y))],:]\n",
        "X_test = X[ind[int(0.9*len(y)):],:]\n",
        "y_train = y[ind[:int(0.7*len(y))]]\n",
        "y_val = y[ind[int(0.7*len(y)):int(0.9*len(y))]]\n",
        "y_test = y[ind[int(0.9*len(y)):]]\n",
        "\n",
        "logistic_model = LogisticRegression()\n",
        "logistic_model.fit(X_train, y_train)\n",
        "pred_val = logistic_model.predict_proba(X_val)[:, 1]\n",
        "pred_test = logistic_model.predict_proba(X_test)[:,1]\n",
        "\n",
        "fpr, tpr, threshold=roc_curve(y_val, pred_val)\n",
        "roc_auc = auc(fpr, tpr)\n",
        "\n",
        "plt.figure(figsize=(10, 6))\n",
        "plt.plot(fpr, tpr, color='blue', label='ROC Curve')\n",
        "plt.plot([0, 1], [0, 1], color='gray', linestyle='--', label='Random Classifier')\n",
        "plt.scatter(fpr, tpr, color='red', label='Threshold Points')\n",
        "plt.scatter(fpr[9], tpr[9], color='green', label='0.5 Threshold')\n",
        "plt.scatter(fpr[6], tpr[6], color='orange', label='0.74 Threshold')\n",
        "plt.xlabel('False Positive Rate (1 - Specificity)')\n",
        "plt.ylabel('True Positive Rate (Sensitivity)')\n",
        "plt.title('Receiver Operating Characteristic (ROC) Curve')\n",
        "plt.legend()\n",
        "plt.show()"
      ],
      "metadata": {
        "colab": {
          "base_uri": "https://localhost:8080/",
          "height": 703
        },
        "id": "D7uZnt9-9D1k",
        "outputId": "2f983cdd-af0f-4016-de4c-c8fded7e4a8a"
      },
      "id": "D7uZnt9-9D1k",
      "execution_count": null,
      "outputs": [
        {
          "output_type": "stream",
          "name": "stderr",
          "text": [
            "/usr/local/lib/python3.11/dist-packages/sklearn/linear_model/_logistic.py:465: ConvergenceWarning: lbfgs failed to converge (status=1):\n",
            "STOP: TOTAL NO. of ITERATIONS REACHED LIMIT.\n",
            "\n",
            "Increase the number of iterations (max_iter) or scale the data as shown in:\n",
            "    https://scikit-learn.org/stable/modules/preprocessing.html\n",
            "Please also refer to the documentation for alternative solver options:\n",
            "    https://scikit-learn.org/stable/modules/linear_model.html#logistic-regression\n",
            "  n_iter_i = _check_optimize_result(\n"
          ]
        },
        {
          "output_type": "display_data",
          "data": {
            "text/plain": [
              "<Figure size 1000x600 with 1 Axes>"
            ],
            "image/png": "[encoded data removed]"
          },
          "metadata": {}
        }
      ]
    },
    {
      "cell_type": "code",
      "source": [
        "print(f'for threshold :{threshold[9]:.3f}')\n",
        "print(f'True Positive Rate: {tpr[9]:.3f}')\n",
        "print(f'False Positive Rate: {fpr[9]:.3f}')\n",
        "\n",
        "print(f'for threshold :{threshold[6]:.3f}')\n",
        "print(f'True Positive Rate: {tpr[6]:.3f}')\n",
        "print(f'False Positive Rate: {fpr[6]:.3f}')\n",
        "\n",
        "print(f'AUC: {roc_auc:.3f}')\n",
        "\n",
        "t\n"
      ],
      "metadata": {
        "colab": {
          "base_uri": "https://localhost:8080/"
        },
        "id": "azrFzUm2DloJ",
        "outputId": "887ebc68-e976-4008-aa93-03ec4c7d36be"
      },
      "id": "azrFzUm2DloJ",
      "execution_count": null,
      "outputs": [
        {
          "output_type": "stream",
          "name": "stdout",
          "text": [
            "for threshold :0.492\n",
            "True Positive Rate: 0.987\n",
            "False Positive Rate: 0.128\n",
            "for threshold :0.736\n",
            "True Positive Rate: 0.960\n",
            "False Positive Rate: 0.051\n",
            "AUC: 0.993\n"
          ]
        }
      ]
    },
    {
      "cell_type": "markdown",
      "source": [
        "As we can see from AUC the classification is really good, because big AUC means that we quickly have high True Positive and low False Positive Rate.\n",
        "\n",
        "If we want lower FPR than 0.128 we would decide to have higher than 0.492 threshold and if we want higher TPR than 0.987 we would go for lower threshold than 0.492.\n",
        "\n",
        "Let's see which threshold has the highest TPR-FPR."
      ],
      "metadata": {
        "id": "ZO6fpPhwrlIs"
      },
      "id": "ZO6fpPhwrlIs"
    },
    {
      "cell_type": "code",
      "source": [
        "maxi=np.argmax(tpr-fpr)\n",
        "\n",
        "print(f'for threshold :{threshold[maxi]:.3f} it has the best TPR-FPR {(tpr-fpr)[maxi]:.3f}')\n",
        "print(f'True Positive Rate: {tpr[maxi]:.3f}')\n",
        "print(f'False Positive Rate: {fpr[maxi]:.3f}')"
      ],
      "metadata": {
        "colab": {
          "base_uri": "https://localhost:8080/"
        },
        "id": "s6XyInKeD5iS",
        "outputId": "039dd353-886e-4b1b-f381-c23ecda2907c"
      },
      "id": "s6XyInKeD5iS",
      "execution_count": null,
      "outputs": [
        {
          "output_type": "stream",
          "name": "stdout",
          "text": [
            "for threshold :0.736 it has the best TPR-FPR 0.909\n",
            "True Positive Rate: 0.960\n",
            "False Positive Rate: 0.051\n"
          ]
        }
      ]
    },
    {
      "cell_type": "markdown",
      "source": [
        "## Tests\n",
        "\n",
        "We will go with 0.5 and 0.74 threshold for our tests.\n"
      ],
      "metadata": {
        "id": "mUr94S3Zsqhu"
      },
      "id": "mUr94S3Zsqhu"
    },
    {
      "cell_type": "markdown",
      "source": [
        "### Threshold 0.5:"
      ],
      "metadata": {
        "id": "hJyT-EXt0rf8"
      },
      "id": "hJyT-EXt0rf8"
    },
    {
      "cell_type": "code",
      "source": [
        "from sklearn.metrics import accuracy_score, precision_score, recall_score, f1_score, confusion_matrix\n",
        "\n",
        "pred_test = logistic_model.predict_proba(X_test)[:,1]\n",
        "\n",
        "print('for threshold 0.5')\n",
        "print(f'Accuracy: {accuracy_score(y_test, pred_test>0.5):.3f}')\n",
        "print(f'Precision: {precision_score(y_test, pred_test>0.5):.3f}')\n",
        "print(f'Recall: {recall_score(y_test, pred_test>0.5):.3f}')\n",
        "print(f'F1-score: {f1_score(y_test, pred_test>0.5):.3f}')\n",
        "print('Confusion Matrix:')\n",
        "conf_mat=confusion_matrix(y_test, pred_test>0.5)\n",
        "print(conf_mat)\n",
        "print(f'Sensitivity: {conf_mat[1,1]/(conf_mat[1,1]+conf_mat[1,0]):.3f}')\n",
        "print(f'Specificity: {conf_mat[0,0]/(conf_mat[0,0]+conf_mat[0,1]):.3f}')\n"
      ],
      "metadata": {
        "colab": {
          "base_uri": "https://localhost:8080/"
        },
        "id": "np95SSxko5Zd",
        "outputId": "c3909f5a-2348-4525-e543-6a930e6cbbf9"
      },
      "id": "np95SSxko5Zd",
      "execution_count": null,
      "outputs": [
        {
          "output_type": "stream",
          "name": "stdout",
          "text": [
            "for threshold 0.5\n",
            "Accuracy: 0.947\n",
            "Precision: 0.944\n",
            "Recall: 0.971\n",
            "F1-score: 0.958\n",
            "Confusion Matrix:\n",
            "[[20  2]\n",
            " [ 1 34]]\n",
            "Sensitivity: 0.971\n",
            "Specificity: 0.909\n"
          ]
        }
      ]
    },
    {
      "cell_type": "markdown",
      "source": [
        "### Threshold 0.74"
      ],
      "metadata": {
        "id": "Vj8VhpP23gbA"
      },
      "id": "Vj8VhpP23gbA"
    },
    {
      "cell_type": "code",
      "source": [
        "print('for threshold 0.74')\n",
        "print(f'Accuracy: {accuracy_score(y_test, pred_test>0.74):.3f}')\n",
        "print(f'Precision: {precision_score(y_test, pred_test>0.74):.3f}')\n",
        "print(f'Recall: {recall_score(y_test, pred_test>0.74):.3f}')\n",
        "print(f'F1-score: {f1_score(y_test, pred_test>0.74):.3f}')\n",
        "print('Confusion Matrix:')\n",
        "conf_mat=confusion_matrix(y_test, pred_test>0.74)\n",
        "print(conf_mat)\n",
        "print(f'Sensitivity: {conf_mat[1,1]/(conf_mat[1,1]+conf_mat[1,0]):.3f}')\n",
        "print(f'Specificity: {conf_mat[0,0]/(conf_mat[0,0]+conf_mat[0,1]):.3f}')"
      ],
      "metadata": {
        "colab": {
          "base_uri": "https://localhost:8080/"
        },
        "id": "-b-L3vVU0eHU",
        "outputId": "10fce06b-6003-4301-e89a-045d7e7b2921"
      },
      "id": "-b-L3vVU0eHU",
      "execution_count": null,
      "outputs": [
        {
          "output_type": "stream",
          "name": "stdout",
          "text": [
            "for threshold 0.74\n",
            "Accuracy: 0.947\n",
            "Precision: 0.944\n",
            "Recall: 0.971\n",
            "F1-score: 0.958\n",
            "Confusion Matrix:\n",
            "[[20  2]\n",
            " [ 1 34]]\n",
            "Sensitivity: 0.971\n",
            "Specificity: 0.909\n"
          ]
        }
      ]
    },
    {
      "cell_type": "markdown",
      "source": [
        "For both thresholds we have same results with one false negative (out of 35) and 2 false positives (out of 22). As we can see model have great accuracy , precision, recall (sensitivity), F1-score and only specificity is only 0.91."
      ],
      "metadata": {
        "id": "_ofkdAme3w_3"
      },
      "id": "_ofkdAme3w_3"
    },
    {
      "cell_type": "code",
      "source": [
        "negatives = list(y).count(0)\n",
        "positives = list(y).count(1)\n",
        "\n",
        "print(f'Number of negatives: {negatives}')\n",
        "print(f'Number of positives: {positives}')\n",
        "print(f'Percantage of positives: {positives/(negatives+positives):.3f}')"
      ],
      "metadata": {
        "colab": {
          "base_uri": "https://localhost:8080/"
        },
        "id": "yQ0BhlEn35ZL",
        "outputId": "1faa5592-390f-4a06-d04f-766ef82dba38"
      },
      "id": "yQ0BhlEn35ZL",
      "execution_count": null,
      "outputs": [
        {
          "output_type": "stream",
          "name": "stdout",
          "text": [
            "Number of negatives: 212\n",
            "Number of positives: 357\n",
            "Percantage of positives: 0.627\n"
          ]
        }
      ]
    },
    {
      "cell_type": "markdown",
      "source": [
        "As we can see data has tendency to label positives with 62% of labels being positive so that's why I think optimal threshold is higher than 0.5."
      ],
      "metadata": {
        "id": "SyJ7OWG2487n"
      },
      "id": "SyJ7OWG2487n"
    },
    {
      "cell_type": "code",
      "source": [],
      "metadata": {
        "id": "78fynb6Q4jju"
      },
      "id": "78fynb6Q4jju",
      "execution_count": null,
      "outputs": []
    }
  ],
  "metadata": {
    "colab": {
      "provenance": [],
      "include_colab_link": true
    },
    "language_info": {
      "name": "python"
    },
    "kernelspec": {
      "name": "python3",
      "display_name": "Python 3"
    }
  },
  "nbformat": 4,
  "nbformat_minor": 5
}